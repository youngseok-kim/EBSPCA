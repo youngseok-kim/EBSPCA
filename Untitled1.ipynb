{
 "cells": [
  {
   "cell_type": "code",
   "execution_count": 1,
   "metadata": {},
   "outputs": [],
   "source": [
    "using PyPlot\n",
    "using LowRankApprox\n",
    "using DataFrames\n",
    "using Roots\n",
    "using Distributions\n",
    "using RCall"
   ]
  },
  {
   "cell_type": "code",
   "execution_count": 271,
   "metadata": {},
   "outputs": [
    {
     "name": "stderr",
     "output_type": "stream",
     "text": [
      "\u001b[1m\u001b[33mWARNING: \u001b[39m\u001b[22m\u001b[33mreadtable is deprecated, use CSV.read from the CSV package instead\u001b[39m\n",
      "Stacktrace:\n",
      " [1] \u001b[1mdepwarn\u001b[22m\u001b[22m\u001b[1m(\u001b[22m\u001b[22m::String, ::Symbol\u001b[1m)\u001b[22m\u001b[22m at \u001b[1m./deprecated.jl:70\u001b[22m\u001b[22m\n",
      " [2] \u001b[1m#readtable#229\u001b[22m\u001b[22m\u001b[1m(\u001b[22m\u001b[22m::Bool, ::Char, ::Array{Char,1}, ::Char, ::Array{String,1}, ::Array{String,1}, ::Array{String,1}, ::Bool, ::Int64, ::Array{Symbol,1}, ::Array{Any,1}, ::Bool, ::Char, ::Bool, ::Int64, ::Array{Int64,1}, ::Bool, ::Symbol, ::Bool, ::Bool, ::DataFrames.#readtable, ::String\u001b[1m)\u001b[22m\u001b[22m at \u001b[1m/Users/yosikim/.julia/v0.6/DataFrames/src/deprecated.jl:1045\u001b[22m\u001b[22m\n",
      " [3] \u001b[1m(::DataFrames.#kw##readtable)\u001b[22m\u001b[22m\u001b[1m(\u001b[22m\u001b[22m::Array{Any,1}, ::DataFrames.#readtable, ::String\u001b[1m)\u001b[22m\u001b[22m at \u001b[1m./<missing>:0\u001b[22m\u001b[22m\n",
      " [4] \u001b[1minclude_string\u001b[22m\u001b[22m\u001b[1m(\u001b[22m\u001b[22m::String, ::String\u001b[1m)\u001b[22m\u001b[22m at \u001b[1m./loading.jl:522\u001b[22m\u001b[22m\n",
      " [5] \u001b[1mexecute_request\u001b[22m\u001b[22m\u001b[1m(\u001b[22m\u001b[22m::ZMQ.Socket, ::IJulia.Msg\u001b[1m)\u001b[22m\u001b[22m at \u001b[1m/Users/yosikim/.julia/v0.6/IJulia/src/execute_request.jl:158\u001b[22m\u001b[22m\n",
      " [6] \u001b[1m(::Compat.#inner#18{Array{Any,1},IJulia.#execute_request,Tuple{ZMQ.Socket,IJulia.Msg}})\u001b[22m\u001b[22m\u001b[1m(\u001b[22m\u001b[22m\u001b[1m)\u001b[22m\u001b[22m at \u001b[1m/Users/yosikim/.julia/v0.6/Compat/src/Compat.jl:378\u001b[22m\u001b[22m\n",
      " [7] \u001b[1meventloop\u001b[22m\u001b[22m\u001b[1m(\u001b[22m\u001b[22m::ZMQ.Socket\u001b[1m)\u001b[22m\u001b[22m at \u001b[1m/Users/yosikim/.julia/v0.6/IJulia/src/eventloop.jl:8\u001b[22m\u001b[22m\n",
      " [8] \u001b[1m(::IJulia.##14#17)\u001b[22m\u001b[22m\u001b[1m(\u001b[22m\u001b[22m\u001b[1m)\u001b[22m\u001b[22m at \u001b[1m./task.jl:335\u001b[22m\u001b[22m\n",
      "while loading In[271], in expression starting on line 1\n"
     ]
    }
   ],
   "source": [
    "Y = Array{Float64,2}(readtable(\"EQTLSumStats_strong.txt\", header = false));\n",
    "include(\"ash2.jl\");\n",
    "include(\"mixSQP.jl\");\n",
    "include(\"update_functions.jl\");"
   ]
  },
  {
   "cell_type": "code",
   "execution_count": 425,
   "metadata": {},
   "outputs": [
    {
     "data": {
      "text/plain": [
       "gram_schmidt (generic function with 1 method)"
      ]
     },
     "execution_count": 425,
     "metadata": {},
     "output_type": "execute_result"
    }
   ],
   "source": [
    "function spca(X; iter = 100,\n",
    "              r = 10,\n",
    "              init = \"by_svd\",\n",
    "              precision_type = \"rowwise_constant\",\n",
    "              return_type = \"posterior_mean\",\n",
    "              nv = 20, nullprior = 20,\n",
    "              convtol = 1e-8,\n",
    "              verbose = true)\n",
    "    # initialize\n",
    "    n,p = size(X);\n",
    "    if init == \"by_svd\"\n",
    "        temp = svds(X, nsv = r)[1];\n",
    "        u = temp[:U] * sqrt(n); u2 = u.^2;\n",
    "        v = (temp[:V] .* temp[:S]') / sqrt(n); v2 = v.^2;\n",
    "    elseif init == \"by_random\"\n",
    "        u = randn(n); u = u/norm(u); v = X'*u; u2 = u.^2; v2 = v.^2;\n",
    "    else\n",
    "        error(\"Error\")\n",
    "    end\n",
    "    X2 = X.^2; i = 0; temp = 0;\n",
    "    R2 = update_R2(X, X2, u, u2, v, v2);\n",
    "    tau = update_tau(R2, precision_type);\n",
    "    \n",
    "    # loop start\n",
    "    for i = 1:iter\n",
    "        \n",
    "        v_old = v/norm(v);\n",
    "        \n",
    "        # update u\n",
    "        u, u2 = update_u(X, tau, v, v2, precision_type);\n",
    "        \n",
    "        # update v\n",
    "        temp = update_v_group(X, tau, u, u2, precision_type, nv, nullprior; alpha = 1);\n",
    "        \n",
    "        if temp[:flag] == 1\n",
    "            println(\"terminate the algorithm since ash solution is a vector of zero entries.\")\n",
    "            break;\n",
    "        end\n",
    "        \n",
    "        v = reshape(temp[:pm],p,r); v2 = reshape(temp[:pm2],p,r);\n",
    "        \n",
    "        # update tau\n",
    "        R2 = update_R2(X, X2, u, u2, v, v2)\n",
    "        tau = update_tau(R2, precision_type)\n",
    "        \n",
    "        a = norm(v); b = norm(v/norm(v) - v_old);\n",
    "        if b < convtol\n",
    "            @printf \"iter %2d done: norm(v) = %1.3f and error %0.2e\\n\" i a b\n",
    "            break;\n",
    "        end\n",
    "        \n",
    "        if verbose == true && rem(i,100) == 0\n",
    "            @printf \"iter %2d done: norm(v) = %1.3f and error %0.2e\\n\" i a b\n",
    "        end\n",
    "        \n",
    "        println(i)\n",
    "\n",
    "    end\n",
    "    \n",
    "    out = Dict([\n",
    "                (:u, u), (:u2, u2), (:v, v), (:v2, v2), (:tau, tau), (:temp, temp), (:iter, i)\n",
    "                ])\n",
    "    \n",
    "    if return_type == \"posterior_median\"\n",
    "        v_med = compute_posterior_median(temp);\n",
    "        out[:v_med] = v_med;\n",
    "    end\n",
    "    \n",
    "    return out\n",
    "end\n",
    "\n",
    "function compute_posterior_median(temp)\n",
    "    \n",
    "    # redefine\n",
    "    x = temp[:x]; comp_post_prob = temp[:cpp];\n",
    "    comp_post_mean = temp[:cpm]; comp_post_sd2 = temp[:cps2];\n",
    "    \n",
    "    ind = find(comp_post_prob[:,1] .< 0.5);\n",
    "    post_median = zeros(length(x));\n",
    "    for i in ind\n",
    "        a = comp_post_prob[i,2:end];\n",
    "        b = comp_post_mean[i,2:end];\n",
    "        c = comp_post_sd2[i,2:end];\n",
    "        d = comp_post_prob[i,1];\n",
    "        \n",
    "        # post_cdf\n",
    "        function post_cdf(x)\n",
    "            return a' * erfc.((x - abs.(b))./sqrt.(2*c)) + d - 0.5\n",
    "        end\n",
    "        post_median[i] = fzero(post_cdf,-1,1e2) * sign(x[i]);\n",
    "    end\n",
    "    return post_median\n",
    "end\n",
    "\n",
    "\n",
    "function gram_schmidt(A)\n",
    "    V = copy(A); k = size(V,2);\n",
    "    for i = 1:k-1\n",
    "        numer = sum(V[:,i] .* V[:,i+1:k],1)\n",
    "        denom = norm(V[:,i])^2;\n",
    "        V[:,i+1:k] = V[:,i+1:k] - repmat(V[:,i],1,k-i) .* numer / denom;\n",
    "    end\n",
    "    return V\n",
    "end"
   ]
  },
  {
   "cell_type": "code",
   "execution_count": 375,
   "metadata": {},
   "outputs": [
    {
     "name": "stdout",
     "output_type": "stream",
     "text": [
      "0\n",
      "0\n",
      "0\n",
      "0\n",
      "0\n",
      "0\n",
      "0\n",
      "0\n",
      "0\n",
      "0\n",
      "0\n",
      "0\n",
      "0\n",
      "0\n",
      "0\n",
      "0\n",
      "0\n"
     ]
    },
    {
     "data": {
      "text/plain": [
       "44×10 Array{Float64,2}:\n",
       " 1.46709   -4.05046e-12  -1.13813e-14  …   4.07802e-6  -2.78088e-5\n",
       " 1.04949   -3.19859e-12  -5.33765e-15      2.37614e-6  -3.99514e-5\n",
       " 0.835522  -3.33781e-13  -4.25204e-16      2.73169e-6  -1.11766e-5\n",
       " 1.18266   -1.3126e-12   -7.82671e-15     -4.57641e-6   3.7334e-5 \n",
       " 0.817031  -1.40913e-12  -4.61805e-15     -4.51985e-6   1.88171e-5\n",
       " 1.41019   -5.18448e-13  -1.0451e-14   …  -3.11789e-6   4.02488e-5\n",
       " 0.551283   1.19458e-11   1.24841e-14     -2.97264e-7  -1.8247e-5 \n",
       " 0.699188   1.39163e-11   1.4529e-14       1.61251e-7  -3.09409e-5\n",
       " 0.67366    1.25439e-11   9.94939e-15     -1.2006e-6    6.10649e-5\n",
       " 0.760806   1.32083e-11   1.04529e-14     -1.37133e-6   6.5762e-5 \n",
       " 0.698945   1.44124e-11   1.40076e-14  …  -2.20265e-7  -1.03651e-5\n",
       " 0.640139   1.40571e-11   1.43656e-14     -2.49896e-7  -1.68377e-5\n",
       " 0.564543   1.05867e-11   1.12806e-14     -1.72973e-7  -2.22151e-5\n",
       " ⋮                                     ⋱                          \n",
       " 0.694604   4.68005e-12   1.19462e-15      1.18117e-6   2.61617e-5\n",
       " 0.672743   1.34731e-14  -5.43045e-15      1.07601e-6   1.0661e-5 \n",
       " 1.05281   -2.12649e-12  -1.21566e-14     -3.57749e-7   5.5703e-6 \n",
       " 1.35254   -2.56255e-12  -1.47731e-14  …   3.698e-7     7.73369e-6\n",
       " 0.626865  -2.53921e-12  -7.28293e-15     -3.11583e-6  -1.93964e-5\n",
       " 0.748219  -3.10259e-12  -7.88981e-15     -1.88974e-6   1.16842e-5\n",
       " 0.968844  -2.3516e-12   -5.65665e-15      1.08017e-6  -2.89064e-5\n",
       " 0.815824   3.54613e-12   2.62584e-15      7.80914e-6   5.42788e-5\n",
       " 1.44905   -8.3402e-13   -6.66392e-15  …   5.87001e-7   1.82954e-5\n",
       " 0.587257  -2.27727e-13  -5.45571e-15     -3.14934e-6   5.55582e-6\n",
       " 0.591139  -8.1708e-13   -7.06955e-15     -4.07052e-6  -1.89094e-6\n",
       " 1.03972   -7.64982e-12  -9.77934e-15     -3.20433e-6   2.68987e-5"
      ]
     },
     "execution_count": 375,
     "metadata": {},
     "output_type": "execute_result"
    }
   ],
   "source": [
    "# initialize\n",
    "    n,p = size(X);\n",
    "    if init == \"by_svd\"\n",
    "        temp = svds(X, nsv = k)[1];\n",
    "        u = temp[:U] * sqrt(n); u2 = u.^2;\n",
    "        v = (temp[:V] .* temp[:S]') / sqrt(n); v2 = v.^2;\n",
    "    elseif init == \"by_random\"\n",
    "        u = randn(n); u = u/norm(u); v = X'*u; u2 = u.^2; v2 = v.^2;\n",
    "    else\n",
    "        error(\"Error\")\n",
    "    end\n",
    "    X2 = X.^2; i = 0; temp = 0;\n",
    "    R2 = update_R2(X, X2, u, u2, v, v2);\n",
    "    tau = update_tau(R2, precision_type);\n",
    "v_old = v/norm(v);\n",
    "        \n",
    "for i = 1:17\n",
    "        # update u\n",
    "        u, u2 = update_u(X, tau, v, v2, precision_type);\n",
    "        # update v\n",
    "        temp = update_v_group(X, tau, u, u2, precision_type, nv, nullprior; alpha = 1);\n",
    "println(temp[:flag])\n",
    "        \n",
    "        v = reshape(temp[:pm],p,k); v2 = reshape(temp[:pm2],p,k);\n",
    "        v = gram_schmidt(v); v2 = gram_schmidt(v2);\n",
    "# update tau\n",
    "        R2 = update_R2(X, X2, u, u2, v, v2)\n",
    "        tau = update_tau(R2, precision_type)\n",
    "end\n",
    "v"
   ]
  },
  {
   "cell_type": "code",
   "execution_count": 412,
   "metadata": {},
   "outputs": [
    {
     "data": {
      "text/plain": [
       "10×10 Array{Float64,2}:\n",
       "  1.0           3.6286e-17    6.86307e-17  …   4.95525e-17  -2.08381e-18\n",
       "  3.6286e-17    1.0          -1.34485e-17      4.19611e-18   8.00126e-17\n",
       "  6.86307e-17  -1.34485e-17   1.0             -6.14251e-18   2.35378e-17\n",
       "  3.35171e-17  -3.08075e-17  -5.94654e-17      4.38278e-17   3.08493e-17\n",
       "  7.59128e-17   9.4786e-18    6.04111e-17     -1.21082e-18  -2.19008e-17\n",
       "  7.65288e-17  -1.63928e-18   6.00484e-17  …   1.23412e-17  -1.11245e-19\n",
       "  1.74365e-18   3.03088e-17  -2.1294e-17       6.29248e-18   6.25023e-18\n",
       " -4.9401e-17    1.14648e-17   1.81073e-18     -4.47435e-17  -1.80179e-17\n",
       "  4.95525e-17   4.19611e-18  -6.14251e-18      1.0          -6.21971e-18\n",
       " -2.08381e-18   8.00126e-17   2.35378e-17     -6.21971e-18   1.0        "
      ]
     },
     "execution_count": 412,
     "metadata": {},
     "output_type": "execute_result"
    }
   ],
   "source": [
    "a = randn(p,10)\n",
    "for i = 1:100\n",
    "    a = gram_schmidt(X'*(X*a));\n",
    "    a = a./sqrt.(sum(a.^2,1))\n",
    "end"
   ]
  },
  {
   "cell_type": "code",
   "execution_count": 525,
   "metadata": {},
   "outputs": [
    {
     "name": "stdout",
     "output_type": "stream",
     "text": [
      "[42.9392, 4.45775, 1.24249, 1.24804, 0.178053, 5.40394e-9]\n",
      "[29.7176, 3.01734, 0.0625093, 0.00626415, 0.150811, 2.75862e-21]\n"
     ]
    }
   ],
   "source": [
    "init = \"by_svd\"; precision_type = \"columnwise_constant\"; nv = 20; nullprior = 20;\n",
    "X = copy(Y); k = 6; n,m = size(X)\n",
    "n,p = size(X);\n",
    "    if init == \"by_svd\"\n",
    "        temp = svds(X, nsv = k)[1];\n",
    "        u = temp[:U] * sqrt(n); u2 = u.^2;\n",
    "        v = (temp[:V] .* temp[:S]') / sqrt(n); v2 = v.^2;\n",
    "    elseif init == \"by_random\"\n",
    "        u = randn(n); u = u/norm(u); v = X'*u; u2 = u.^2; v2 = v.^2;\n",
    "    else\n",
    "        error(\"Error\")\n",
    "    end\n",
    "v_old = copy(v);\n",
    "X2 = X.^2; i = 0; temp = 0;\n",
    "for i = 1:11\n",
    "    R2 = update_R2(X, X2, u, u2, v, v2);\n",
    "    tau = update_tau(R2, precision_type);\n",
    "u,u2 = update_u(X, tau, v, v2, precision_type);\n",
    "temp = update_v_group(X, tau, u, u2, precision_type, nv, nullprior; alpha = 1);\n",
    "v = reshape(temp[:pm],m,k); v2 = reshape(temp[:pm2],m,k);\n",
    "    v = gram_schmidt(v); v2 = gram_schmidt(v2);\n",
    "    if rem(i,5) == 0\n",
    "        println(diag(v'*v))\n",
    "    end\n",
    "end"
   ]
  },
  {
   "cell_type": "code",
   "execution_count": 521,
   "metadata": {},
   "outputs": [
    {
     "data": {
      "text/plain": [
       "1×6 Array{Float64,2}:\n",
       " 78028.8  11995.5  3.09787e-104  473.872  837.844  1.09734e-154"
      ]
     },
     "execution_count": 521,
     "metadata": {},
     "output_type": "execute_result"
    }
   ],
   "source": [
    "sum(u.^2,1)"
   ]
  },
  {
   "cell_type": "code",
   "execution_count": 526,
   "metadata": {},
   "outputs": [
    {
     "data": {
      "image/png": "[encoded data removed]",
      "text/plain": [
       "PyPlot.Figure(PyObject <Figure size 1500x1000 with 12 Axes>)"
      ]
     },
     "metadata": {},
     "output_type": "display_data"
    }
   ],
   "source": [
    "col =  [:darkred; :darkred; :red; :orange; :orange; :orange; repeat([:yellow], inner = 10);\n",
    "        :greenyellow; :lightgreen; :lightgreen; :green; :green; :olive; :olive; :olive;\n",
    "        :paleturquoise; :skyblue; :deepskyblue; :dodgerblue; :steelblue; :royalblue; :slateblue; :blue;\n",
    "        :darkblue; :mediumpurple; :darkgray; :darkgray; repeat([:gray], inner = 7); :pink]\n",
    "fig, ax = subplots(3,4, figsize = (15,10))\n",
    "for i = 1:k\n",
    "    subplot(3,4,i);\n",
    "    bar(1:44, v[:,i], color = col);\n",
    "    title(\"factor $i\")\n",
    "end"
   ]
  },
  {
   "cell_type": "code",
   "execution_count": 6,
   "metadata": {},
   "outputs": [],
   "source": [
    "x = randn(10000); s2 = 1 + randn(10000)/100; nv = 10;"
   ]
  },
  {
   "cell_type": "code",
   "execution_count": 33,
   "metadata": {},
   "outputs": [],
   "source": [
    "n = length(x); flag = 0;\n",
    "    x2_div_s2 = x.^2 ./ s2;\n",
    "    s2_max = 4 * maximum(x2_div_s2 - 1);\n",
    "    \n",
    "    if s2_max <= 0\n",
    "        flag == 1; # flag 1 means ash will output 0 solution\n",
    "        return 0, 0, 0, 0, 0, 0, 0, flag\n",
    "    end\n",
    "    \n",
    "    s2_max_round = ceil(Int,log10(s2_max))\n",
    "    grid = logspace(0, s2_max_round, nv) - 1;\n",
    "    \n",
    "    # matrix likelihood\n",
    "    s2_matrix = 1 + grid' # n by m matrix of standard deviations of convolutions\n",
    "    log_lik = -x2_div_s2./s2_matrix .- log.(s2_matrix);\n",
    "    log_lik = log_lik - repmat(maximum(log_lik,2),1,size(log_lik,2));\n",
    "    log_lik = exp.(log_lik);\n",
    "# fit the model\n",
    "    p = mixSQP(log_lik)[\"x\"];\n",
    "ind = find(p .> 0);\n",
    "    ind = unique([1;ind]); # we don't need this if nullprior > 0, since the null component never gonna be 0\n",
    "    ps2 = grid[ind];"
   ]
  },
  {
   "cell_type": "code",
   "execution_count": 40,
   "metadata": {},
   "outputs": [
    {
     "ename": "LoadError",
     "evalue": "\u001b[91mUndefVarError: nullprior not defined\u001b[39m",
     "output_type": "error",
     "traceback": [
      "\u001b[91mUndefVarError: nullprior not defined\u001b[39m",
      ""
     ]
    }
   ],
   "source": [
    "x2 = x.^2;\n",
    "    \n",
    "    if length(s2) == 1\n",
    "        s2 = s2 .* ones(length(x))\n",
    "    end\n",
    "    \n",
    "\n",
    "    s_max = 2 * sqrt(maximum(x2-s2));\n",
    "    ss = ceil(Int,log10(s_max))\n",
    "    grid = logspace(0,ss,nv)-1;\n",
    "    \n",
    "    # matrix likelihood\n",
    "    s_matrix = sqrt.((s2) .+ grid') # n by m matrix of standard deviations of convolutions\n",
    "    log_lik = -(x./s_matrix).^2/2 - log.(s_matrix) - log(2*pi)/2;\n",
    "    log_lik = log_lik - repmat(maximum(log_lik,2),1,size(log_lik,2));\n",
    "    log_lik = exp.(log_lik);\n",
    "    \n",
    "    # fit the model\n",
    "    p = mixSQP(log_lik, nullprior = nullprior)[\"x\"];\n",
    "    \n",
    "    # exploit sparsity\n",
    "    ind = find(p .> 0);\n",
    "    ind = unique([1;ind]); # we don't need this if nullprior > 0, since the null component never gonna be 0\n",
    "    ps2 = grid[ind];\n",
    "    \n",
    "    # posterior calculation\n",
    "    temp = s2 .+ ps2';\n",
    "    comp_post_mean = (x * ps2') ./ temp;\n",
    "    comp_post_sd2 = (s2 * ps2') ./ temp;\n",
    "    comp_post_mean2 = comp_post_sd2 + comp_post_mean.^2;\n",
    "    comp_post_prob = log_lik[:,ind] .* p[ind]';\n",
    "    comp_post_prob = comp_post_prob ./ sum(comp_post_prob,2);\n",
    "    post_mean = sum(comp_post_prob .* comp_post_mean,2);\n",
    "    post_mean2 = sum(comp_post_prob .* comp_post_mean2,2);"
   ]
  }
 ],
 "metadata": {
  "kernelspec": {
   "display_name": "Julia 0.6.2",
   "language": "julia",
   "name": "julia-0.6"
  },
  "language_info": {
   "file_extension": ".jl",
   "mimetype": "application/julia",
   "name": "julia",
   "version": "0.6.2"
  }
 },
 "nbformat": 4,
 "nbformat_minor": 2
}
