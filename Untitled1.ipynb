{
 "cells": [
  {
   "cell_type": "code",
   "execution_count": 103,
   "metadata": {},
   "outputs": [],
   "source": [
    "using LowRankApprox\n",
    "include(\"mixSQP.jl\");\n",
    "include(\"ash.jl\");\n",
    "L = rand(100000,200);\n",
    "F = pqrfact(L, rank = 180);\n",
    "L1 = F[:Q] * F[:R][:,sortperm(F[:p])];"
   ]
  },
  {
   "cell_type": "code",
   "execution_count": 104,
   "metadata": {},
   "outputs": [
    {
     "name": "stdout",
     "output_type": "stream",
     "text": [
      "  6.507507 seconds (1.27 M allocations: 2.587 GiB, 9.92% gc time)\n",
      "  4.188044 seconds (15.74 k allocations: 2.514 GiB, 8.60% gc time)\n"
     ]
    },
    {
     "data": {
      "text/plain": [
       "Dict{String,Any} with 9 entries:\n",
       "  \"timing\"      => [0.623045, 0.317544, 0.30949, 0.307649, 0.311129, 0.0]\n",
       "  \"nnz\"         => [200, 91, 29, 29, 29, 29]\n",
       "  \"totaltime\"   => 3.85789\n",
       "  \"lowranktime\" => 1.98903\n",
       "  \"obj\"         => [69274.9, 69221.8, 68405.4, 66468.4, 66425.6, 66425.6]\n",
       "  \"x\"           => [0.00443025, 0.0, 0.0, 0.0, 0.0, 0.0166394, 0.0, 0.0, 0.0, 0…\n",
       "  \"nqp\"         => [100, 64, 2, 2, 2, 0]\n",
       "  \"gmin\"        => [-0.0925047, -0.0765453, -0.0221316, -0.00053041, -2.36956e-…\n",
       "  \"qptiming\"    => [0.202046, 0.0155038, 0.000221815, 0.000194887, 0.000194205,…"
      ]
     },
     "execution_count": 104,
     "metadata": {},
     "output_type": "execute_result"
    }
   ],
   "source": [
    "@time out0 = mixSQP(L1, linesearch = true, lowrank = \"svd\", verbose = false)\n",
    "@time out1 = mixSQP(L1, linesearch = false, lowrank = \"svd\", verbose = false)"
   ]
  },
  {
   "cell_type": "code",
   "execution_count": 84,
   "metadata": {},
   "outputs": [
    {
     "data": {
      "text/plain": [
       "100-element Array{Float64,1}:\n",
       "  0.0      \n",
       "  0.0439746\n",
       "  0.089883 \n",
       "  0.13781  \n",
       "  0.187845 \n",
       "  0.24008  \n",
       "  0.294612 \n",
       "  0.351542 \n",
       "  0.410976 \n",
       "  0.473023 \n",
       "  0.537798 \n",
       "  0.605422 \n",
       "  0.67602  \n",
       "  ⋮        \n",
       " 43.128    \n",
       " 45.0685   \n",
       " 47.0944   \n",
       " 49.2093   \n",
       " 51.4172   \n",
       " 53.7223   \n",
       " 56.1287   \n",
       " 58.6409   \n",
       " 61.2636   \n",
       " 64.0016   \n",
       " 66.86     \n",
       " 69.8441   "
      ]
     },
     "execution_count": 84,
     "metadata": {},
     "output_type": "execute_result"
    }
   ],
   "source": [
    "include(\"autoselectmixgrid.jl\")\n",
    "autoselectmixgrid(randn(1000) * 10, nv = 100, gridtype = \"mult\")"
   ]
  }
 ],
 "metadata": {
  "kernelspec": {
   "display_name": "Julia 0.6.2",
   "language": "julia",
   "name": "julia-0.6"
  },
  "language_info": {
   "file_extension": ".jl",
   "mimetype": "application/julia",
   "name": "julia",
   "version": "0.6.2"
  }
 },
 "nbformat": 4,
 "nbformat_minor": 2
}
